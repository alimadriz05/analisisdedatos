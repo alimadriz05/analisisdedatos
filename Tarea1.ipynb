{
  "nbformat": 4,
  "nbformat_minor": 0,
  "metadata": {
    "colab": {
      "provenance": [],
      "authorship_tag": "ABX9TyNYQ9CjxOv3mJvvCP3drZGB",
      "include_colab_link": true
    },
    "kernelspec": {
      "name": "python3",
      "display_name": "Python 3"
    },
    "language_info": {
      "name": "python"
    }
  },
  "cells": [
    {
      "cell_type": "markdown",
      "metadata": {
        "id": "view-in-github",
        "colab_type": "text"
      },
      "source": [
        "<a href=\"https://colab.research.google.com/github/alimadriz05/analisisdedatos/blob/main/Tarea1.ipynb\" target=\"_parent\"><img src=\"https://colab.research.google.com/assets/colab-badge.svg\" alt=\"Open In Colab\"/></a>"
      ]
    },
    {
      "cell_type": "code",
      "execution_count": null,
      "metadata": {
        "colab": {
          "base_uri": "https://localhost:8080/"
        },
        "id": "BtdlYALSFcd_",
        "outputId": "5005b78a-24a9-40ae-c76b-88bed82c1010"
      },
      "outputs": [
        {
          "output_type": "stream",
          "name": "stdout",
          "text": [
            "Ejercicio Bisiesto\n",
            "Ingrese el año: 2023\n",
            "El año no es Bisiesto \n"
          ]
        }
      ],
      "source": [
        "print(\"Ejercicio Bisiesto\")\n",
        "anio=int(input(\"Ingrese el año: \"))\n",
        "if(anio % 400 == 0) or (anio % 4 == 0) and (anio % 100 != 0):\n",
        "  print(\"El año  es Bisiesto\")\n",
        "else:\n",
        "  print(\"El año no es Bisiesto \")"
      ]
    },
    {
      "cell_type": "code",
      "source": [
        "switcher={1: \"Enero\", 2: \"Febrero\", 3: \"Marzo\", 4: \"Abril\", 5: \"Mayo\", 6: \"Junio\", 7: \"Julio\", 8: \"Agosto\", 9: \"Septiembre\", 10: \"Octubre\", 11: \"Noviembre\", 12: \"Diciembre\"}\n",
        "argument=int(input(\"Ingrese un número: \"))\n",
        "nombreDeMes=switcher.get(argument, \"Mes invalido\")\n",
        "print(nombreDeMes)"
      ],
      "metadata": {
        "colab": {
          "base_uri": "https://localhost:8080/"
        },
        "id": "CGg5QgVjGZna",
        "outputId": "146c5817-4fc9-47b8-abfd-c13da28a0551"
      },
      "execution_count": null,
      "outputs": [
        {
          "output_type": "stream",
          "name": "stdout",
          "text": [
            "Ingrese un número: 13\n",
            "Mes invalido\n"
          ]
        }
      ]
    },
    {
      "cell_type": "code",
      "source": [
        "C=-1\n",
        "I=0\n",
        "M=0\n",
        "\n",
        "while(C<0) or (I<=0) or (I>=100) or (M<=0):\n",
        "  print(\"Introduce el capital, el interes y el tiempo apropiados\")\n",
        "  C=int(input(\"Capital: \"))\n",
        "  I=int(input(\"Intereses: \"))\n",
        "  M=int(input(\"Tiempo en Años: \"))\n",
        "\n",
        "for i in range(M):\n",
        "  C=C*(1+I/100)\n",
        "  print(\"Monto\", C, \"Colones\")"
      ],
      "metadata": {
        "colab": {
          "base_uri": "https://localhost:8080/"
        },
        "id": "7PF1s1KVH1Qe",
        "outputId": "63bfd254-f849-4f3f-f440-09b6834edc48"
      },
      "execution_count": null,
      "outputs": [
        {
          "output_type": "stream",
          "name": "stdout",
          "text": [
            "Introduce el capital, el interes y el tiempo apropiados\n",
            "Capital: 1000\n",
            "Intereses: 10\n",
            "Tiempo en Años: 20\n",
            "Monto 1100.0 Colones\n",
            "Monto 1210.0 Colones\n",
            "Monto 1331.0 Colones\n",
            "Monto 1464.1000000000001 Colones\n",
            "Monto 1610.5100000000002 Colones\n",
            "Monto 1771.5610000000004 Colones\n",
            "Monto 1948.7171000000005 Colones\n",
            "Monto 2143.5888100000006 Colones\n",
            "Monto 2357.9476910000008 Colones\n",
            "Monto 2593.742460100001 Colones\n",
            "Monto 2853.1167061100014 Colones\n",
            "Monto 3138.4283767210018 Colones\n",
            "Monto 3452.271214393102 Colones\n",
            "Monto 3797.4983358324125 Colones\n",
            "Monto 4177.248169415654 Colones\n",
            "Monto 4594.97298635722 Colones\n",
            "Monto 5054.470284992943 Colones\n",
            "Monto 5559.917313492238 Colones\n",
            "Monto 6115.909044841462 Colones\n",
            "Monto 6727.499949325608 Colones\n"
          ]
        }
      ]
    },
    {
      "cell_type": "code",
      "source": [
        "print(\"Digite un número\")\n",
        "numero=int(input(\"Número: \"))\n",
        "\n",
        "while numero>0: #para que sea mayor a 0\n",
        "  Suma=0\n",
        "  for i in range(1, numero+1):\n",
        "    if(numero % i==0):\n",
        "      Suma=Suma+i\n",
        "  print(Suma)\n",
        "  numero=int(input(\"Número: \"))\n",
        "\n",
        "# divisores 1+2+5+10=18"
      ],
      "metadata": {
        "colab": {
          "base_uri": "https://localhost:8080/"
        },
        "id": "mlH87EqjJoTl",
        "outputId": "f371cc24-eda3-45ef-f6aa-a8ea0f82bbd4"
      },
      "execution_count": null,
      "outputs": [
        {
          "name": "stdout",
          "output_type": "stream",
          "text": [
            "Digite un número\n",
            "Número: 60\n",
            "168\n",
            "Número: 14\n",
            "24\n",
            "Número: -1\n"
          ]
        }
      ]
    },
    {
      "cell_type": "code",
      "source": [],
      "metadata": {
        "id": "iONU3Iq8LmbZ"
      },
      "execution_count": null,
      "outputs": []
    }
  ]
}
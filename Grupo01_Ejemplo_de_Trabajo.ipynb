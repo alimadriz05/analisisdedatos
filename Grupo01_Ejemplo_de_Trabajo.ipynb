{
  "nbformat": 4,
  "nbformat_minor": 0,
  "metadata": {
    "colab": {
      "provenance": [],
      "authorship_tag": "ABX9TyMYE+ISWDlIhU9X9OvchkYK",
      "include_colab_link": true
    },
    "kernelspec": {
      "name": "python3",
      "display_name": "Python 3"
    },
    "language_info": {
      "name": "python"
    }
  },
  "cells": [
    {
      "cell_type": "markdown",
      "metadata": {
        "id": "view-in-github",
        "colab_type": "text"
      },
      "source": [
        "<a href=\"https://colab.research.google.com/github/alimadriz05/analisisdedatos/blob/main/Grupo01_Ejemplo_de_Trabajo.ipynb\" target=\"_parent\"><img src=\"https://colab.research.google.com/assets/colab-badge.svg\" alt=\"Open In Colab\"/></a>"
      ]
    },
    {
      "cell_type": "code",
      "execution_count": null,
      "metadata": {
        "colab": {
          "base_uri": "https://localhost:8080/"
        },
        "id": "DCY00ojpYaQW",
        "outputId": "b8d54ebe-a26e-4278-8dd8-0aea55045e44"
      },
      "outputs": [
        {
          "output_type": "stream",
          "name": "stdout",
          "text": [
            "Index positions of 22 in Dataframe: \n",
            "(0, 'Nombre')\n"
          ]
        }
      ],
      "source": [
        "import pandas as pd\n",
        "students = [('Ana', 23, 'San Jose', 'A'),\n",
        "            ('Esteban', 22, 'Heredia', 'B'),\n",
        "            ('Juan', 22, 'Cartago', 'A'),\n",
        "            ('Karla', 22, 'Limon', 'A'),\n",
        "            ('Ernesto', 21, 'Heredia', 'B')\n",
        "            ]\n",
        "df= pd.DataFrame(students, columns = ['Nombre', 'Edad', 'Ciudad', 'Seccion'])\n",
        "\n",
        "#print(students)\n",
        "\n",
        "def getIndexes(dfObj, value):\n",
        "\n",
        "  listOfPos = []\n",
        "  result = dfObj.isin([value])\n",
        "  seriesObj = result.any()\n",
        "  columnNames = list (seriesObj [seriesObj == True].index)\n",
        "\n",
        "  for col in columnNames:  #recorrido por columnas \n",
        "    rows = list(result[col][result [col] == True].index)\n",
        "\n",
        "    for row in rows:\n",
        "      listOfPos.append((row,col))\n",
        "\n",
        "  return listOfPos\n",
        "\n",
        "listOfPositions = getIndexes(df, 'Ana')\n",
        "print('Index positions of 22 in Dataframe: ')\n",
        "\n",
        "for i in range(len(listOfPositions)):\n",
        "  print( listOfPositions[i])\n",
        "\n",
        "\n",
        "\n",
        "#Nosotros queremos buscar: \n",
        "#1.¿cuál es la red social más utilizada para hacer compras? \n",
        "# Se puede utilizar la libreria statistics con la funcion mode \n",
        "\n",
        "#Allison Madriz Valverde\n",
        "#Daniela Chaves Lopez\n",
        "#Andrel Ramirez Solis\n",
        "#Kenny Jiménez Wang"
      ]
    }
  ]
}
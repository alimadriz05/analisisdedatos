{
  "nbformat": 4,
  "nbformat_minor": 0,
  "metadata": {
    "colab": {
      "provenance": [],
      "authorship_tag": "ABX9TyO4dHS062W9PGtMh328ZObq",
      "include_colab_link": true
    },
    "kernelspec": {
      "name": "python3",
      "display_name": "Python 3"
    },
    "language_info": {
      "name": "python"
    }
  },
  "cells": [
    {
      "cell_type": "markdown",
      "metadata": {
        "id": "view-in-github",
        "colab_type": "text"
      },
      "source": [
        "<a href=\"https://colab.research.google.com/github/alimadriz05/analisisdedatos/blob/main/Lab2_allison_madriz.ipynb\" target=\"_parent\"><img src=\"https://colab.research.google.com/assets/colab-badge.svg\" alt=\"Open In Colab\"/></a>"
      ]
    },
    {
      "cell_type": "code",
      "execution_count": null,
      "metadata": {
        "id": "v0bCml4u22Uu"
      },
      "outputs": [],
      "source": [
        "#decoracion: Nombre de Algoritmo\n",
        "print(\"----------------------\")\n",
        "print(\"Ejemplo2: IMPRIMIR EL MENOS DE DOS NUMEROS.\")\n",
        "print(\"----------------------\")\n",
        "\n",
        "#entradas\n",
        "print(\"Ingrese 2 numeros: \")\n",
        "x=int( input(\"Primer numero: \"))\n",
        "y=int( input(\"Segundo numero: \"))\n",
        "print(\"\\nSALIDA: \")\n",
        "print(\"----------------------\")\n",
        "\n",
        "#nota: no olvidarse de las indentacion\n",
        "if x>y:\n",
        "  #esto esta dentro del if\n",
        "  print(\"El menor es: \", y)\n",
        "else:\n",
        "  #esto esta dentro del else\n",
        "  print(\"El menor es: \", x)\n",
        "\n",
        "  #|| or ---- && and  switcher.get (retorna el # de posicion de un conjunto)"
      ]
    },
    {
      "cell_type": "code",
      "source": [
        "switcher={1: \"Enero\", 2: \"Febrero\", 3: \"Marzo\", 4: \"Abril\", 5: \"Mayo\", 6: \"Junio\", 7: \"Julio\", 8: \"Agosto\", 9: \"Septiembre\", 10: \"Octubre\", 11: \"Noviembre\", 12: \"Diciembre\"}\n",
        "argument=int(input(\"Ingrese un numero: \"))\n",
        "nameMes=switcher.get(argument, \"Mes invalido\")\n",
        "print(nameMes)"
      ],
      "metadata": {
        "colab": {
          "base_uri": "https://localhost:8080/"
        },
        "id": "3YG4UOqs69c_",
        "outputId": "e51f3d4b-eae5-4882-ce20-e0a49bb00df8"
      },
      "execution_count": null,
      "outputs": [
        {
          "output_type": "stream",
          "name": "stdout",
          "text": [
            "Ingrese un numero: 2\n",
            "Febrero\n"
          ]
        }
      ]
    }
  ]
}
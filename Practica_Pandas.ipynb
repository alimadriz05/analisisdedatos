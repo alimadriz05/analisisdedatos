{
  "nbformat": 4,
  "nbformat_minor": 0,
  "metadata": {
    "colab": {
      "provenance": [],
      "authorship_tag": "ABX9TyNeVNBaGi1Q9lXvDld2N82F",
      "include_colab_link": true
    },
    "kernelspec": {
      "name": "python3",
      "display_name": "Python 3"
    },
    "language_info": {
      "name": "python"
    }
  },
  "cells": [
    {
      "cell_type": "markdown",
      "metadata": {
        "id": "view-in-github",
        "colab_type": "text"
      },
      "source": [
        "<a href=\"https://colab.research.google.com/github/alimadriz05/analisisdedatos/blob/main/Practica_Pandas.ipynb\" target=\"_parent\"><img src=\"https://colab.research.google.com/assets/colab-badge.svg\" alt=\"Open In Colab\"/></a>"
      ]
    },
    {
      "cell_type": "code",
      "execution_count": null,
      "metadata": {
        "colab": {
          "base_uri": "https://localhost:8080/"
        },
        "id": "kGrP7FyEV1qH",
        "outputId": "95dd9ec6-8895-4ec6-9a79-0c65fdf47497"
      },
      "outputs": [
        {
          "output_type": "stream",
          "name": "stdout",
          "text": [
            "      Country    Capital  Population\n",
            "0  Costa Rica   San Jose     4500000\n",
            "1       India  New Delhi  1303171035\n",
            "2      Brazil   Brasilia   207847528\n"
          ]
        }
      ],
      "source": [
        "import pandas as pd\n",
        "\n",
        "data = { 'Country': ['Costa Rica', 'India', 'Brazil'], 'Capital': ['San Jose', 'New Delhi', 'Brasilia'], 'Population': [4500000, 1303171035, 207847528]}\n",
        "df= pd.DataFrame(data, columns =['Country', 'Capital', 'Population'])\n",
        "print(df)"
      ]
    },
    {
      "cell_type": "code",
      "source": [
        "print(\"Promedio de los elementos del vector\")\n",
        "Suma=0\n",
        "Media=0\n",
        "Temp=[]\n",
        "print(\"Ingrese cantidad de Temperaturas\")\n",
        "N=int(input())\n",
        "\n",
        "for i in range(N):\n",
        "  temperatura=float(input(\"Ingrese la temperatura \"))\n",
        "  Temp.append(temperatura)\n",
        "  Suma=Suma+Temp[i]\n",
        "\n",
        "Media=Suma/N\n",
        "print(Media)"
      ],
      "metadata": {
        "colab": {
          "base_uri": "https://localhost:8080/"
        },
        "id": "mJDZOmDjYohM",
        "outputId": "f156b6b1-fac9-44d5-b90a-9520914a4389"
      },
      "execution_count": null,
      "outputs": [
        {
          "output_type": "stream",
          "name": "stdout",
          "text": [
            "Promedio de los elementos del vector\n",
            "Ingrese cantidad de Temperaturas\n",
            "1\n",
            "Ingrese la temperatura 23.4\n",
            "23.4\n"
          ]
        }
      ]
    },
    {
      "cell_type": "code",
      "source": [
        "import pandas as pd\n",
        "\n",
        "mascota = pd.DataFrame (\n",
        "    data={\n",
        "        'name': ['Minino', 'Milo', 'Snoopy', 'Blanco', 'LittlePonny'],\n",
        "        'type': ['gato', 'perro', 'perro', 'perro', 'caballo']\n",
        "    },\n",
        "    index=[71, 42, 11, 98, 42]\n",
        ")\n",
        "\n",
        "visitas = pd.DataFrame(\n",
        "    data={\n",
        "        'pet_id': [42, 31, 71, 42, 98, 42],\n",
        "        'fecha' : ['2019-03-15', '2019-03-15', '2022-04-15', '2023-05-07', '2019-03-15', '2020-06-05'],\n",
        "        'costo' : [2000, 5000, 1000, 5000, 6000, 10000]\n",
        "    }\n",
        ")\n",
        "\n",
        "#print(visitas)\n",
        "\n",
        "mascota.index.rename('pet_id', inplace=True)  #agregando otra columna como nombre\n",
        "visitas.index.rename('visit_id', inplace=False)\n",
        "# print(visitas)\n",
        "\n",
        "print(mascota.query('pet_id==71')) #consulta un id en especifico\n",
        "\n",
        "print(visitas['costo'].sum()) #sirve para sumar montos\n",
        "print(visitas['costo'].min()) #extrae el monto minimo \n",
        "print(visitas['costo'].max()) #extrae el monto maximo\n",
        "\n",
        "#print(visitas)\n",
        "\n",
        "print(visitas.sort_values(by='costo', ascending=False)) #sirve para ordenar \n",
        "tienda=pd.merge(mascota, visitas, how='cross')  #une datasets \n",
        "\n",
        "print(tienda)\n",
        "\n"
      ],
      "metadata": {
        "colab": {
          "base_uri": "https://localhost:8080/"
        },
        "id": "KCCJq5TqbbvH",
        "outputId": "514e9410-de63-494f-98c2-1fd3408f2d57"
      },
      "execution_count": null,
      "outputs": [
        {
          "output_type": "stream",
          "name": "stdout",
          "text": [
            "          name  type\n",
            "pet_id              \n",
            "71      Minino  gato\n",
            "29000\n",
            "1000\n",
            "10000\n",
            "   pet_id       fecha  costo\n",
            "5      42  2020-06-05  10000\n",
            "4      98  2019-03-15   6000\n",
            "1      31  2019-03-15   5000\n",
            "3      42  2023-05-07   5000\n",
            "0      42  2019-03-15   2000\n",
            "2      71  2022-04-15   1000\n",
            "           name     type  pet_id       fecha  costo\n",
            "0        Minino     gato      42  2019-03-15   2000\n",
            "1        Minino     gato      31  2019-03-15   5000\n",
            "2        Minino     gato      71  2022-04-15   1000\n",
            "3        Minino     gato      42  2023-05-07   5000\n",
            "4        Minino     gato      98  2019-03-15   6000\n",
            "5        Minino     gato      42  2020-06-05  10000\n",
            "6          Milo    perro      42  2019-03-15   2000\n",
            "7          Milo    perro      31  2019-03-15   5000\n",
            "8          Milo    perro      71  2022-04-15   1000\n",
            "9          Milo    perro      42  2023-05-07   5000\n",
            "10         Milo    perro      98  2019-03-15   6000\n",
            "11         Milo    perro      42  2020-06-05  10000\n",
            "12       Snoopy    perro      42  2019-03-15   2000\n",
            "13       Snoopy    perro      31  2019-03-15   5000\n",
            "14       Snoopy    perro      71  2022-04-15   1000\n",
            "15       Snoopy    perro      42  2023-05-07   5000\n",
            "16       Snoopy    perro      98  2019-03-15   6000\n",
            "17       Snoopy    perro      42  2020-06-05  10000\n",
            "18       Blanco    perro      42  2019-03-15   2000\n",
            "19       Blanco    perro      31  2019-03-15   5000\n",
            "20       Blanco    perro      71  2022-04-15   1000\n",
            "21       Blanco    perro      42  2023-05-07   5000\n",
            "22       Blanco    perro      98  2019-03-15   6000\n",
            "23       Blanco    perro      42  2020-06-05  10000\n",
            "24  LittlePonny  caballo      42  2019-03-15   2000\n",
            "25  LittlePonny  caballo      31  2019-03-15   5000\n",
            "26  LittlePonny  caballo      71  2022-04-15   1000\n",
            "27  LittlePonny  caballo      42  2023-05-07   5000\n",
            "28  LittlePonny  caballo      98  2019-03-15   6000\n",
            "29  LittlePonny  caballo      42  2020-06-05  10000\n"
          ]
        }
      ]
    }
  ]
}
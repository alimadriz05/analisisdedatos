{
  "nbformat": 4,
  "nbformat_minor": 0,
  "metadata": {
    "colab": {
      "provenance": [],
      "authorship_tag": "ABX9TyPF4TOFmWmk6ACe9oscwODc",
      "include_colab_link": true
    },
    "kernelspec": {
      "name": "python3",
      "display_name": "Python 3"
    },
    "language_info": {
      "name": "python"
    }
  },
  "cells": [
    {
      "cell_type": "markdown",
      "metadata": {
        "id": "view-in-github",
        "colab_type": "text"
      },
      "source": [
        "<a href=\"https://colab.research.google.com/github/alimadriz05/analisisdedatos/blob/main/Lab1_Allison_Madriz.ipynb\" target=\"_parent\"><img src=\"https://colab.research.google.com/assets/colab-badge.svg\" alt=\"Open In Colab\"/></a>"
      ]
    },
    {
      "cell_type": "code",
      "execution_count": null,
      "metadata": {
        "colab": {
          "base_uri": "https://localhost:8080/"
        },
        "id": "k7HpC3N4HBNg",
        "outputId": "db005aeb-95ab-42d8-9f29-68f308be998e"
      },
      "outputs": [
        {
          "output_type": "stream",
          "name": "stdout",
          "text": [
            "Ejercicio #1 Calcular distancia\n",
            "Ingrese la velocidad y el tiempo de la unidad movil\n",
            "Ingrese la velocidad:7\n",
            "Ingrese el tiempo:5\n",
            "La distancia es:35.0\n",
            "Ejercio #2 promedio de notas\n",
            "Ingrese la nota 1:75.6\n",
            "Ingrese la nota 2:90\n",
            "Ingrese la nota 3:87\n",
            "El promedio de las notas es:84.2\n"
          ]
        }
      ],
      "source": [
        "print(\"Ejercicio #1 Calcular distancia\")\n",
        "print(\"Ingrese la velocidad y el tiempo de la unidad movil\")\n",
        "v=float(input(\"Ingrese la velocidad:\"))\n",
        "t=float(input(\"Ingrese el tiempo:\"))\n",
        "print(\"La distancia es:\" +str(v*t))\n"
      ]
    },
    {
      "cell_type": "code",
      "source": [
        "print(\"Ejercio #2 promedio de notas\")\n",
        "nota1=float(input(\"Ingrese la nota 1:\"))\n",
        "nota2=int(input(\"Ingrese la nota 2:\"))\n",
        "nota3=int(input(\"Ingrese la nota 3:\"))\n",
        "print(\"El promedio de las notas es:\" +str((nota1+nota2+nota3)/3))"
      ],
      "metadata": {
        "colab": {
          "base_uri": "https://localhost:8080/"
        },
        "id": "6hoyhfLjKGvD",
        "outputId": "26aa74ba-675b-41a1-d996-2e7153b72034"
      },
      "execution_count": null,
      "outputs": [
        {
          "output_type": "stream",
          "name": "stdout",
          "text": [
            "Ejercio #2 promedio de notas\n",
            "Ingrese la nota 1:75.6\n",
            "Ingrese la nota 2:80\n",
            "Ingrese la nota 3:5\n",
            "El promedio de las notas es:53.53333333333333\n"
          ]
        }
      ]
    },
    {
      "cell_type": "code",
      "source": [
        "print(\"Nota total\")\n",
        "print(\"ingrese el numero de respuestas\")\n",
        "RC=int(input(\"ingrese el numero de respuestas correctas:\"))\n",
        "RI=int(input(\"ingrese el numero de respuestas incorrectas:\"))\n",
        "RB=int(input(\"ingrese el numero de respuestas en blanco:\"))\n",
        "print(\"en puntaje final es de:\"+str((RC*3)+(RI*-1)+(RB*0)))"
      ],
      "metadata": {
        "colab": {
          "base_uri": "https://localhost:8080/"
        },
        "id": "MBRFStbRKOKS",
        "outputId": "81c2f02a-dfb9-40b3-a33d-0177f27c5aa8"
      },
      "execution_count": null,
      "outputs": [
        {
          "output_type": "stream",
          "name": "stdout",
          "text": [
            "Nota total\n",
            "ingrese el numero de respuestas\n",
            "ingrese el numero de respuestas correctas:14\n",
            "ingrese el numero de respuestas incorrectas:7\n",
            "ingrese el numero de respuestas en blanco:2\n",
            "en puntaje final es de:35\n"
          ]
        }
      ]
    }
  ]
}